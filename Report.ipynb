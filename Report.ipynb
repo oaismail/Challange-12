{
 "cells": [
  {
   "cell_type": "markdown",
   "id": "deeab1fd-fdc9-42d8-acfb-cfbe4167a58b",
   "metadata": {},
   "source": [
    "## Machine learning report"
   ]
  },
  {
   "cell_type": "markdown",
   "id": "df94c302-7667-4b38-b370-70888451e2c8",
   "metadata": {},
   "source": [
    "---------------------"
   ]
  },
  {
   "cell_type": "markdown",
   "id": "1d3a22cb-a752-4327-a86a-276c65bb132e",
   "metadata": {},
   "source": [
    "### In this excercise, we are trying to assess the creditworthiness of borrowers. We used machine learning to assess and identify those. \n",
    "### We have a reasonably large dataset with some features (loan size, interest rate, borrower income and det to income) wiht with the y target being the loan risk, 0 being low risk (healthy credit) and 1 being risky credit (high risk of deaulting) "
   ]
  },
  {
   "cell_type": "markdown",
   "id": "7ded8378-edb1-477c-9d6e-39b2c3790fbe",
   "metadata": {},
   "source": [
    "### As expected we have unbalanced dataset, with 0 = 75036 and 1=2500. Given the high likely of the credit to default is expcted to be lower."
   ]
  },
  {
   "cell_type": "markdown",
   "id": "952d5a2a-6298-453f-904f-3cd326e55820",
   "metadata": {},
   "source": [
    "### We tried to sets of machine learning. Intially used the logsticalRegression module and fit the data on it then predicted the possible outcome then outlines the scores in the calssification report.\n",
    "### Then we did the same steps fitting the data on RandomOversampling module and compared both reports. "
   ]
  },
  {
   "cell_type": "markdown",
   "id": "5b4795fa-9de5-4b61-ac29-884173a37e04",
   "metadata": {},
   "source": [
    "## Results:"
   ]
  },
  {
   "cell_type": "markdown",
   "id": "513662b3-4448-404f-974b-5c24042f29b8",
   "metadata": {},
   "source": [
    "### Machine learning model 1: \n",
    "##### * LogisticalRegression: The accuracy is 99%, The recall for 0 is 99% and for 1 is 91%\n",
    "##### ------------------------ The precision for 0 is 100% and for 1 it was 85%"
   ]
  },
  {
   "cell_type": "markdown",
   "id": "f6959598-6d38-4737-94de-90773fdc1976",
   "metadata": {},
   "source": [
    "### Machine learning 2: "
   ]
  },
  {
   "cell_type": "markdown",
   "id": "aedeed9e-16f7-47a4-bf09-fdd899782418",
   "metadata": {},
   "source": [
    "##### * Random oversampling: The accuracy is 99%, The recall for 0 and 1 is 99%\n",
    "##### ------------------------ The precision for 0 is 100% and for 1 it is 84%"
   ]
  },
  {
   "cell_type": "markdown",
   "id": "122c431d-e11f-4a65-a8f0-028ada479099",
   "metadata": {},
   "source": [
    "## Summary: "
   ]
  },
  {
   "cell_type": "markdown",
   "id": "413fa991-45d9-4c58-bf68-4b1298c7c188",
   "metadata": {},
   "source": [
    "### In summary, both machine learning models have done well overall. But to get the highest recall without compremizing the accuracy or precision then we advocate to use the oversampling model given an increase in the recall of the high risk credits from 91% to 99%. "
   ]
  },
  {
   "cell_type": "code",
   "execution_count": null,
   "id": "a5aa21d7-2743-450d-8b2b-04ccaddb0312",
   "metadata": {},
   "outputs": [],
   "source": []
  }
 ],
 "metadata": {
  "kernelspec": {
   "display_name": "Python 3 (ipykernel)",
   "language": "python",
   "name": "python3"
  },
  "language_info": {
   "codemirror_mode": {
    "name": "ipython",
    "version": 3
   },
   "file_extension": ".py",
   "mimetype": "text/x-python",
   "name": "python",
   "nbconvert_exporter": "python",
   "pygments_lexer": "ipython3",
   "version": "3.7.13"
  }
 },
 "nbformat": 4,
 "nbformat_minor": 5
}
